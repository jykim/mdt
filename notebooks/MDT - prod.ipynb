{
 "cells": [
  {
   "cell_type": "code",
   "execution_count": 55,
   "metadata": {
    "collapsed": true,
    "extensions": {
     "jupyter_dashboards": {
      "version": 1,
      "views": {
       "grid_default": {
        "col": 0,
        "height": 4,
        "hidden": true,
        "row": 20,
        "width": 4
       },
       "report_default": {
        "hidden": true
       }
      }
     }
    },
    "hideCode": false,
    "hide_input": true
   },
   "outputs": [],
   "source": [
    "%matplotlib inline\n",
    "from mdt import *\n",
    "#import seaborn"
   ]
  },
  {
   "cell_type": "markdown",
   "metadata": {},
   "source": [
    "# Load Input"
   ]
  },
  {
   "cell_type": "code",
   "execution_count": 56,
   "metadata": {
    "collapsed": false,
    "extensions": {
     "jupyter_dashboards": {
      "version": 1,
      "views": {
       "grid_default": {
        "col": 0,
        "height": 24,
        "hidden": true,
        "row": 0,
        "width": 5
       },
       "report_default": {
        "hidden": true
       }
      }
     }
    },
    "hideCode": false,
    "hide_input": true,
    "scrolled": true
   },
   "outputs": [],
   "source": [
    "mp.P_T1 = r\"^(.*):$\"\n",
    "mp.C_TITLE = \":\"\n",
    "cfg = yaml.load(open(\"mdt_config.yaml\",\"r\").read())\n",
    "auth_token = cfg['auth_token']\n",
    "mu.import_from_dropbox(auth_token, \"tmp\")\n",
    "dt = mp.parse_md_files(\"./tmp/\"+\"*.taskpaper\")\n",
    "del dt[\"T2\"];del dt[\"T3\"];del dt[\"ID\"]"
   ]
  },
  {
   "cell_type": "markdown",
   "metadata": {},
   "source": [
    "# Task Stats"
   ]
  },
  {
   "cell_type": "code",
   "execution_count": 57,
   "metadata": {
    "collapsed": true
   },
   "outputs": [],
   "source": [
    "# Filter tasks only\n",
    "df = dt[dt.TXT.str.contains(\"^\\s*- \")]\n",
    "dfs = ms.add_stat(df, \"done,p\")\n",
    "dfs.rename(columns={\"Filename\": \"Week\", \"T1\": \"Project\", \"done\": \"Date\", \"p\":\"Time\"}, inplace=True)"
   ]
  },
  {
   "cell_type": "markdown",
   "metadata": {
    "extensions": {
     "jupyter_dashboards": {
      "version": 1,
      "views": {
       "grid_default": {
        "hidden": true
       },
       "report_default": {
        "hidden": true
       }
      }
     }
    },
    "hide_input": false
   },
   "source": [
    "## Daily Stats"
   ]
  },
  {
   "cell_type": "code",
   "execution_count": 58,
   "metadata": {
    "collapsed": false,
    "extensions": {
     "jupyter_dashboards": {
      "version": 1,
      "views": {
       "grid_default": {
        "col": 7,
        "height": 18,
        "hidden": false,
        "row": 29,
        "width": 5
       },
       "report_default": {
        "hidden": false
       }
      }
     }
    },
    "hide_input": false
   },
   "outputs": [
    {
     "data": {
      "text/html": [
       "<div>\n",
       "<table border=\"1\" class=\"dataframe\">\n",
       "  <thead>\n",
       "    <tr style=\"text-align: right;\">\n",
       "      <th></th>\n",
       "      <th></th>\n",
       "      <th>Time_sum</th>\n",
       "      <th>Task_done</th>\n",
       "      <th>Project_nunique</th>\n",
       "      <th>Ratio_Time</th>\n",
       "      <th>Ratio_Task</th>\n",
       "      <th>Ratio_Project</th>\n",
       "    </tr>\n",
       "    <tr>\n",
       "      <th>Week</th>\n",
       "      <th>Date</th>\n",
       "      <th></th>\n",
       "      <th></th>\n",
       "      <th></th>\n",
       "      <th></th>\n",
       "      <th></th>\n",
       "      <th></th>\n",
       "    </tr>\n",
       "  </thead>\n",
       "  <tbody>\n",
       "    <tr>\n",
       "      <th rowspan=\"4\" valign=\"top\">20170205</th>\n",
       "      <th>2017-02-09</th>\n",
       "      <td>5.0</td>\n",
       "      <td>2</td>\n",
       "      <td>2</td>\n",
       "      <td>0.62</td>\n",
       "      <td>0.50</td>\n",
       "      <td>0.67</td>\n",
       "    </tr>\n",
       "    <tr>\n",
       "      <th>2017-02-08</th>\n",
       "      <td>9.0</td>\n",
       "      <td>6</td>\n",
       "      <td>5</td>\n",
       "      <td>1.12</td>\n",
       "      <td>1.50</td>\n",
       "      <td>1.67</td>\n",
       "    </tr>\n",
       "    <tr>\n",
       "      <th>2017-02-07</th>\n",
       "      <td>5.0</td>\n",
       "      <td>5</td>\n",
       "      <td>4</td>\n",
       "      <td>0.62</td>\n",
       "      <td>1.25</td>\n",
       "      <td>1.33</td>\n",
       "    </tr>\n",
       "    <tr>\n",
       "      <th>2017-02-06</th>\n",
       "      <td>8.0</td>\n",
       "      <td>5</td>\n",
       "      <td>3</td>\n",
       "      <td>1.00</td>\n",
       "      <td>1.25</td>\n",
       "      <td>1.00</td>\n",
       "    </tr>\n",
       "    <tr>\n",
       "      <th rowspan=\"4\" valign=\"top\">20170129</th>\n",
       "      <th>2017-02-04</th>\n",
       "      <td>4.0</td>\n",
       "      <td>2</td>\n",
       "      <td>2</td>\n",
       "      <td>0.50</td>\n",
       "      <td>0.50</td>\n",
       "      <td>0.67</td>\n",
       "    </tr>\n",
       "    <tr>\n",
       "      <th>2017-02-03</th>\n",
       "      <td>0.0</td>\n",
       "      <td>1</td>\n",
       "      <td>1</td>\n",
       "      <td>0.00</td>\n",
       "      <td>0.25</td>\n",
       "      <td>0.33</td>\n",
       "    </tr>\n",
       "    <tr>\n",
       "      <th>2017-01-31</th>\n",
       "      <td>8.0</td>\n",
       "      <td>2</td>\n",
       "      <td>2</td>\n",
       "      <td>1.00</td>\n",
       "      <td>0.50</td>\n",
       "      <td>0.67</td>\n",
       "    </tr>\n",
       "    <tr>\n",
       "      <th>2017-01-30</th>\n",
       "      <td>0.0</td>\n",
       "      <td>1</td>\n",
       "      <td>1</td>\n",
       "      <td>0.00</td>\n",
       "      <td>0.25</td>\n",
       "      <td>0.33</td>\n",
       "    </tr>\n",
       "    <tr>\n",
       "      <th rowspan=\"2\" valign=\"top\">20170122</th>\n",
       "      <th>2017-01-27</th>\n",
       "      <td>4.0</td>\n",
       "      <td>1</td>\n",
       "      <td>1</td>\n",
       "      <td>0.50</td>\n",
       "      <td>0.25</td>\n",
       "      <td>0.33</td>\n",
       "    </tr>\n",
       "    <tr>\n",
       "      <th>2017-01-26</th>\n",
       "      <td>3.0</td>\n",
       "      <td>4</td>\n",
       "      <td>2</td>\n",
       "      <td>0.38</td>\n",
       "      <td>1.00</td>\n",
       "      <td>0.67</td>\n",
       "    </tr>\n",
       "  </tbody>\n",
       "</table>\n",
       "</div>"
      ],
      "text/plain": [
       "                     Time_sum  Task_done  Project_nunique  Ratio_Time  \\\n",
       "Week     Date                                                           \n",
       "20170205 2017-02-09       5.0          2                2        0.62   \n",
       "         2017-02-08       9.0          6                5        1.12   \n",
       "         2017-02-07       5.0          5                4        0.62   \n",
       "         2017-02-06       8.0          5                3        1.00   \n",
       "20170129 2017-02-04       4.0          2                2        0.50   \n",
       "         2017-02-03       0.0          1                1        0.00   \n",
       "         2017-01-31       8.0          2                2        1.00   \n",
       "         2017-01-30       0.0          1                1        0.00   \n",
       "20170122 2017-01-27       4.0          1                1        0.50   \n",
       "         2017-01-26       3.0          4                2        0.38   \n",
       "\n",
       "                     Ratio_Task  Ratio_Project  \n",
       "Week     Date                                   \n",
       "20170205 2017-02-09        0.50           0.67  \n",
       "         2017-02-08        1.50           1.67  \n",
       "         2017-02-07        1.25           1.33  \n",
       "         2017-02-06        1.25           1.00  \n",
       "20170129 2017-02-04        0.50           0.67  \n",
       "         2017-02-03        0.25           0.33  \n",
       "         2017-01-31        0.50           0.67  \n",
       "         2017-01-30        0.25           0.33  \n",
       "20170122 2017-01-27        0.25           0.33  \n",
       "         2017-01-26        1.00           0.67  "
      ]
     },
     "execution_count": 58,
     "metadata": {},
     "output_type": "execute_result"
    }
   ],
   "source": [
    "daily = dfs.groupby(['Week',\"Date\"]).agg({'Time': ['sum'], 'TXT':'count', 'Project':'nunique'})\n",
    "daily.columns = daily.columns.map(mu.flattenCols)\n",
    "daily.rename(columns={\"TXT_count\": \"Task_done\"}, inplace=True)\n",
    "daily['Ratio_Time'] = daily.Time_sum / 8\n",
    "daily['Ratio_Task'] = daily.Task_done / 4\n",
    "daily['Ratio_Project'] = daily.Project_nunique / 3\n",
    "dstat = daily.fillna(0).sort_index(0, ascending=False).round(2)\n",
    "dstat.to_csv(\"rpt/daily_stats.tsv\",sep=\"\\t\")\n",
    "dstat[:10]"
   ]
  },
  {
   "cell_type": "code",
   "execution_count": 59,
   "metadata": {
    "collapsed": false,
    "extensions": {
     "jupyter_dashboards": {
      "version": 1,
      "views": {
       "grid_default": {
        "col": 5,
        "height": 14,
        "hidden": false,
        "row": 15,
        "width": 7
       },
       "report_default": {
        "hidden": false
       }
      }
     }
    },
    "scrolled": false
   },
   "outputs": [
    {
     "data": {
      "image/png": "[encoded data removed]",
      "text/plain": [
       "<matplotlib.figure.Figure at 0x7fd0f99c8ac8>"
      ]
     },
     "metadata": {},
     "output_type": "display_data"
    }
   ],
   "source": [
    "plt = daily.ix[-10:,3:].plot(kind=\"bar\", figsize=[15,3])\n",
    "plt.axhline(y=1, linewidth=1, color = 'red', linestyle = 'dotted');"
   ]
  },
  {
   "cell_type": "markdown",
   "metadata": {
    "extensions": {
     "jupyter_dashboards": {
      "version": 1,
      "views": {
       "grid_default": {
        "hidden": true
       },
       "report_default": {
        "hidden": false
       }
      }
     }
    }
   },
   "source": [
    "## Weekly Stats"
   ]
  },
  {
   "cell_type": "code",
   "execution_count": 60,
   "metadata": {
    "collapsed": false,
    "extensions": {
     "jupyter_dashboards": {
      "version": 1,
      "views": {
       "grid_default": {
        "col": 0,
        "height": 20,
        "hidden": false,
        "row": 15,
        "width": 5
       },
       "report_default": {
        "hidden": false
       }
      }
     }
    },
    "scrolled": false
   },
   "outputs": [
    {
     "data": {
      "text/html": [
       "<div>\n",
       "<table border=\"1\" class=\"dataframe\">\n",
       "  <thead>\n",
       "    <tr style=\"text-align: right;\">\n",
       "      <th></th>\n",
       "      <th>Time_sum</th>\n",
       "      <th>Task_total</th>\n",
       "      <th>Task_done</th>\n",
       "      <th>Ratio_Time</th>\n",
       "      <th>Ratio_Task</th>\n",
       "    </tr>\n",
       "    <tr>\n",
       "      <th>Week</th>\n",
       "      <th></th>\n",
       "      <th></th>\n",
       "      <th></th>\n",
       "      <th></th>\n",
       "      <th></th>\n",
       "    </tr>\n",
       "  </thead>\n",
       "  <tbody>\n",
       "    <tr>\n",
       "      <th>20170212</th>\n",
       "      <td>0.0</td>\n",
       "      <td>1</td>\n",
       "      <td>0</td>\n",
       "      <td>0.00</td>\n",
       "      <td>0.00</td>\n",
       "    </tr>\n",
       "    <tr>\n",
       "      <th>20170205</th>\n",
       "      <td>27.0</td>\n",
       "      <td>26</td>\n",
       "      <td>18</td>\n",
       "      <td>0.68</td>\n",
       "      <td>0.69</td>\n",
       "    </tr>\n",
       "    <tr>\n",
       "      <th>20170129</th>\n",
       "      <td>12.0</td>\n",
       "      <td>19</td>\n",
       "      <td>6</td>\n",
       "      <td>0.30</td>\n",
       "      <td>0.32</td>\n",
       "    </tr>\n",
       "    <tr>\n",
       "      <th>20170122</th>\n",
       "      <td>19.0</td>\n",
       "      <td>26</td>\n",
       "      <td>13</td>\n",
       "      <td>0.48</td>\n",
       "      <td>0.50</td>\n",
       "    </tr>\n",
       "    <tr>\n",
       "      <th>20170115</th>\n",
       "      <td>17.0</td>\n",
       "      <td>23</td>\n",
       "      <td>11</td>\n",
       "      <td>0.42</td>\n",
       "      <td>0.48</td>\n",
       "    </tr>\n",
       "    <tr>\n",
       "      <th>20170108</th>\n",
       "      <td>17.0</td>\n",
       "      <td>33</td>\n",
       "      <td>20</td>\n",
       "      <td>0.42</td>\n",
       "      <td>0.61</td>\n",
       "    </tr>\n",
       "    <tr>\n",
       "      <th>20170101</th>\n",
       "      <td>18.0</td>\n",
       "      <td>24</td>\n",
       "      <td>14</td>\n",
       "      <td>0.45</td>\n",
       "      <td>0.58</td>\n",
       "    </tr>\n",
       "  </tbody>\n",
       "</table>\n",
       "</div>"
      ],
      "text/plain": [
       "          Time_sum  Task_total  Task_done  Ratio_Time  Ratio_Task\n",
       "Week                                                             \n",
       "20170212       0.0           1          0        0.00        0.00\n",
       "20170205      27.0          26         18        0.68        0.69\n",
       "20170129      12.0          19          6        0.30        0.32\n",
       "20170122      19.0          26         13        0.48        0.50\n",
       "20170115      17.0          23         11        0.42        0.48\n",
       "20170108      17.0          33         20        0.42        0.61\n",
       "20170101      18.0          24         14        0.45        0.58"
      ]
     },
     "execution_count": 60,
     "metadata": {},
     "output_type": "execute_result"
    }
   ],
   "source": [
    "weekly = dfs.groupby([\"Week\"]).agg({'Time': ['sum'], 'TXT': 'count', 'Date': 'count'})\n",
    "weekly.columns = weekly.columns.map(mu.flattenCols)\n",
    "weekly.rename(columns={\"TXT_count\": \"Task_total\", \"Date_count\": \"Task_done\"}, inplace=True)\n",
    "weekly.fillna(0).sort_index(0, ascending=False)\n",
    "weekly['Ratio_Time'] = weekly.Time_sum / 40\n",
    "weekly['Ratio_Task'] = weekly.Task_done / weekly.Task_total\n",
    "wstat = weekly.fillna(0).sort_index(0, ascending=False).round(2)\n",
    "wstat.to_csv(\"rpt/weekly_stats.tsv\",sep=\"\\t\")\n",
    "wstat"
   ]
  },
  {
   "cell_type": "code",
   "execution_count": 61,
   "metadata": {
    "collapsed": false,
    "extensions": {
     "jupyter_dashboards": {
      "version": 1,
      "views": {
       "grid_default": {
        "col": 0,
        "height": 15,
        "hidden": false,
        "row": 0,
        "width": 8
       },
       "report_default": {
        "hidden": false
       }
      }
     }
    },
    "scrolled": true
   },
   "outputs": [
    {
     "data": {
      "image/png": "[encoded data removed]",
      "text/plain": [
       "<matplotlib.figure.Figure at 0x7fd0f938b630>"
      ]
     },
     "metadata": {},
     "output_type": "display_data"
    }
   ],
   "source": [
    "plt = weekly.ix[:,3:].plot(kind=\"bar\", figsize=[10,3])\n",
    "plt.axhline(y=1, linewidth=1, color = 'red', linestyle = 'dotted');"
   ]
  },
  {
   "cell_type": "markdown",
   "metadata": {},
   "source": [
    "# Journal Stats"
   ]
  },
  {
   "cell_type": "code",
   "execution_count": 62,
   "metadata": {
    "collapsed": false
   },
   "outputs": [],
   "source": [
    "# Filter journals only\n",
    "dj = dt[dt.T1.str.contains(\"^20\")]\n",
    "djs = ms.add_stat(dj, \"h\")\n",
    "djs.rename(columns={\"Filename\": \"Week\", \"T1\": \"Date\", \"h\":\"Happiness\"}, inplace=True)"
   ]
  },
  {
   "cell_type": "markdown",
   "metadata": {},
   "source": [
    "## Writing Amount"
   ]
  },
  {
   "cell_type": "code",
   "execution_count": 64,
   "metadata": {
    "collapsed": false
   },
   "outputs": [
    {
     "data": {
      "image/png": "[encoded data removed]",
      "text/plain": [
       "<matplotlib.figure.Figure at 0x7fd0f92430f0>"
      ]
     },
     "metadata": {},
     "output_type": "display_data"
    }
   ],
   "source": [
    "djsa = djs.groupby([\"Date\"]).agg({'TXT': ['count']})\n",
    "plt = djsa[-10:].plot(kind=\"bar\", figsize=[15,3])\n",
    "plt.legend_.remove()\n",
    "plt.axhline(y=5, linewidth=1, color = 'red', linestyle = 'dotted');"
   ]
  },
  {
   "cell_type": "markdown",
   "metadata": {},
   "source": [
    "## Happiness"
   ]
  },
  {
   "cell_type": "code",
   "execution_count": 65,
   "metadata": {
    "collapsed": false,
    "scrolled": false
   },
   "outputs": [
    {
     "data": {
      "text/html": [
       "<div>\n",
       "<table border=\"1\" class=\"dataframe\">\n",
       "  <thead>\n",
       "    <tr style=\"text-align: right;\">\n",
       "      <th></th>\n",
       "      <th>Week</th>\n",
       "      <th>Date</th>\n",
       "      <th>TXT</th>\n",
       "      <th>Happiness</th>\n",
       "    </tr>\n",
       "  </thead>\n",
       "  <tbody>\n",
       "    <tr>\n",
       "      <th>28</th>\n",
       "      <td>20170205</td>\n",
       "      <td>2017-02-09</td>\n",
       "      <td>Lunch too fast &amp; too much @h(2)</td>\n",
       "      <td>2.0</td>\n",
       "    </tr>\n",
       "    <tr>\n",
       "      <th>32</th>\n",
       "      <td>20170205</td>\n",
       "      <td>2017-02-08</td>\n",
       "      <td>How to be happy working from home @h(3)</td>\n",
       "      <td>3.0</td>\n",
       "    </tr>\n",
       "    <tr>\n",
       "      <th>36</th>\n",
       "      <td>20170205</td>\n",
       "      <td>2017-02-08</td>\n",
       "      <td>Had a productive evening @h(4)</td>\n",
       "      <td>4.0</td>\n",
       "    </tr>\n",
       "    <tr>\n",
       "      <th>38</th>\n",
       "      <td>20170205</td>\n",
       "      <td>2017-02-07</td>\n",
       "      <td>Had to be more careful on locking the apt @h(2)</td>\n",
       "      <td>2.0</td>\n",
       "    </tr>\n",
       "    <tr>\n",
       "      <th>40</th>\n",
       "      <td>20170205</td>\n",
       "      <td>2017-02-07</td>\n",
       "      <td>2/17 I-140 approval / Snap H1 filing @h(3)</td>\n",
       "      <td>3.0</td>\n",
       "    </tr>\n",
       "    <tr>\n",
       "      <th>46</th>\n",
       "      <td>20170205</td>\n",
       "      <td>2017-02-06</td>\n",
       "      <td>One achievement changes the whole perspective:...</td>\n",
       "      <td>4.0</td>\n",
       "    </tr>\n",
       "    <tr>\n",
       "      <th>47</th>\n",
       "      <td>20170205</td>\n",
       "      <td>2017-02-05</td>\n",
       "      <td>Costco return fiasco @h(1)</td>\n",
       "      <td>1.0</td>\n",
       "    </tr>\n",
       "    <tr>\n",
       "      <th>52</th>\n",
       "      <td>20170205</td>\n",
       "      <td>2017-02-05</td>\n",
       "      <td>Still need to control reading! @h(2)</td>\n",
       "      <td>2.0</td>\n",
       "    </tr>\n",
       "  </tbody>\n",
       "</table>\n",
       "</div>"
      ],
      "text/plain": [
       "        Week        Date                                                TXT  \\\n",
       "28  20170205  2017-02-09                    Lunch too fast & too much @h(2)   \n",
       "32  20170205  2017-02-08            How to be happy working from home @h(3)   \n",
       "36  20170205  2017-02-08                     Had a productive evening @h(4)   \n",
       "38  20170205  2017-02-07    Had to be more careful on locking the apt @h(2)   \n",
       "40  20170205  2017-02-07         2/17 I-140 approval / Snap H1 filing @h(3)   \n",
       "46  20170205  2017-02-06  One achievement changes the whole perspective:...   \n",
       "47  20170205  2017-02-05                         Costco return fiasco @h(1)   \n",
       "52  20170205  2017-02-05               Still need to control reading! @h(2)   \n",
       "\n",
       "    Happiness  \n",
       "28        2.0  \n",
       "32        3.0  \n",
       "36        4.0  \n",
       "38        2.0  \n",
       "40        3.0  \n",
       "46        4.0  \n",
       "47        1.0  \n",
       "52        2.0  "
      ]
     },
     "execution_count": 65,
     "metadata": {},
     "output_type": "execute_result"
    }
   ],
   "source": [
    "djs[~djs.Happiness.isnull()]"
   ]
  },
  {
   "cell_type": "code",
   "execution_count": 66,
   "metadata": {
    "collapsed": false,
    "scrolled": true
   },
   "outputs": [
    {
     "data": {
      "image/png": "[encoded data removed]",
      "text/plain": [
       "<matplotlib.figure.Figure at 0x7fd0f9259160>"
      ]
     },
     "metadata": {},
     "output_type": "display_data"
    }
   ],
   "source": [
    "djsa = djs[~djs.Happiness.isnull()].groupby([\"Date\"]).agg({'Happiness': ['mean']})\n",
    "plt = djsa.plot(kind=\"bar\", figsize=[10,3])\n",
    "plt.legend_.remove()\n",
    "plt.axhline(y=3.5, linewidth=1, color = 'red', linestyle = 'dotted');"
   ]
  }
 ],
 "metadata": {
  "_draft": {
   "nbviewer_url": "https://gist.github.com/e89cae7255beaa48a1a1bea2e3ab3b79"
  },
  "anaconda-cloud": {},
  "extensions": {
   "jupyter_dashboards": {
    "activeView": "grid_default",
    "version": 1,
    "views": {
     "grid_default": {
      "cellMargin": 10,
      "defaultCellHeight": 20,
      "maxColumns": 12,
      "name": "grid",
      "type": "grid"
     },
     "report_default": {
      "name": "report",
      "type": "report"
     }
    }
   }
  },
  "gist": {
   "data": {
    "description": "mdt/notebooks/MDT - prod.ipynb",
    "public": true
   },
   "id": "e89cae7255beaa48a1a1bea2e3ab3b79"
  },
  "kernelspec": {
   "display_name": "Python 3",
   "language": "python",
   "name": "python3"
  },
  "language_info": {
   "codemirror_mode": {
    "name": "ipython",
    "version": 3
   },
   "file_extension": ".py",
   "mimetype": "text/x-python",
   "name": "python",
   "nbconvert_exporter": "python",
   "pygments_lexer": "ipython3",
   "version": "3.6.0"
  },
  "toc": {
   "colors": {
    "hover_highlight": "#DAA520",
    "running_highlight": "#FF0000",
    "selected_highlight": "#FFD700"
   },
   "moveMenuLeft": true,
   "nav_menu": {
    "height": "67px",
    "width": "252px"
   },
   "navigate_menu": true,
   "number_sections": true,
   "sideBar": true,
   "threshold": 4,
   "toc_cell": false,
   "toc_section_display": "block",
   "toc_window_display": true
  }
 },
 "nbformat": 4,
 "nbformat_minor": 0
}
