{
 "cells": [
  {
   "cell_type": "code",
   "execution_count": 82,
   "metadata": {
    "collapsed": false,
    "extensions": {
     "jupyter_dashboards": {
      "version": 1,
      "views": {
       "grid_default": {
        "col": 0,
        "height": 4,
        "hidden": true,
        "row": 20,
        "width": 4
       },
       "report_default": {
        "hidden": true
       }
      }
     }
    },
    "hide_input": true,
    "scrolled": true
   },
   "outputs": [],
   "source": [
    "%matplotlib inline\n",
    "from mdt import *\n",
    "cfg = yaml.load(open(\"mdt_config.yaml\",\"r\").read())"
   ]
  },
  {
   "cell_type": "markdown",
   "metadata": {
    "extensions": {
     "jupyter_dashboards": {
      "version": 1,
      "views": {
       "grid_default": {
        "col": 4,
        "height": 4,
        "hidden": true,
        "row": 0,
        "width": 4
       },
       "report_default": {
        "hidden": false
       }
      }
     }
    }
   },
   "source": [
    "# Load TaskPapers"
   ]
  },
  {
   "cell_type": "code",
   "execution_count": 83,
   "metadata": {
    "collapsed": false,
    "extensions": {
     "jupyter_dashboards": {
      "version": 1,
      "views": {
       "grid_default": {
        "col": 0,
        "height": 24,
        "hidden": true,
        "row": 0,
        "width": 5
       },
       "report_default": {
        "hidden": true
       }
      }
     }
    },
    "hide_input": true,
    "scrolled": true
   },
   "outputs": [],
   "source": [
    "mp.P_T1 = r\"^(.*):$\"\n",
    "mp.C_TITLE = \":\"\n",
    "auth_token = cfg['auth_token']\n",
    "mp.import_from_dropbox(auth_token, \"tmp\")\n",
    "dt = mp.parse_md_files(\"./tmp/\"+\"*.taskpaper\")\n",
    "del dt[\"T2\"];del dt[\"T3\"];del dt[\"ID\"]\n",
    "\n",
    "# Filter tasks only\n",
    "df = dt[dt.TXT.str.contains(\"^\\s*- \")]\n",
    "dfs = ms.add_stat(df, \"done,p\")\n",
    "dfs.rename(columns={\"Filename\": \"Week\", \"T1\": \"Project\", \"done\": \"Date\", \"p\":\"Time\"}, inplace=True)\n",
    "valid_weeks = dfs.Week.unique().tolist() #valid_weeks.sort()"
   ]
  },
  {
   "cell_type": "code",
   "execution_count": 84,
   "metadata": {
    "collapsed": false,
    "scrolled": true
   },
   "outputs": [],
   "source": [
    "#dfs[(dfs.Week.isin(valid_weeks[-2:]))]"
   ]
  },
  {
   "cell_type": "markdown",
   "metadata": {},
   "source": [
    "# Summary"
   ]
  },
  {
   "cell_type": "markdown",
   "metadata": {
    "extensions": {
     "jupyter_dashboards": {
      "version": 1,
      "views": {
       "grid_default": {
        "hidden": true
       },
       "report_default": {
        "hidden": true
       }
      }
     }
    }
   },
   "source": [
    "## Daily Stats"
   ]
  },
  {
   "cell_type": "code",
   "execution_count": 85,
   "metadata": {
    "collapsed": false,
    "extensions": {
     "jupyter_dashboards": {
      "version": 1,
      "views": {
       "grid_default": {
        "col": 7,
        "height": 18,
        "hidden": false,
        "row": 29,
        "width": 5
       },
       "report_default": {
        "hidden": false
       }
      }
     }
    },
    "scrolled": true
   },
   "outputs": [
    {
     "data": {
      "text/html": [
       "<div>\n",
       "<table border=\"1\" class=\"dataframe\">\n",
       "  <thead>\n",
       "    <tr style=\"text-align: right;\">\n",
       "      <th></th>\n",
       "      <th></th>\n",
       "      <th>Time_sum</th>\n",
       "      <th>Task_done</th>\n",
       "      <th>Project_nunique</th>\n",
       "      <th>Ratio_Time</th>\n",
       "      <th>Ratio_Task</th>\n",
       "      <th>Ratio_Project</th>\n",
       "    </tr>\n",
       "    <tr>\n",
       "      <th>Week</th>\n",
       "      <th>Date</th>\n",
       "      <th></th>\n",
       "      <th></th>\n",
       "      <th></th>\n",
       "      <th></th>\n",
       "      <th></th>\n",
       "      <th></th>\n",
       "    </tr>\n",
       "  </thead>\n",
       "  <tbody>\n",
       "    <tr>\n",
       "      <th>20170205</th>\n",
       "      <th>2017-02-06</th>\n",
       "      <td>4.0</td>\n",
       "      <td>4</td>\n",
       "      <td>2</td>\n",
       "      <td>0.50</td>\n",
       "      <td>1.00</td>\n",
       "      <td>0.67</td>\n",
       "    </tr>\n",
       "    <tr>\n",
       "      <th rowspan=\"4\" valign=\"top\">20170129</th>\n",
       "      <th>2017-02-04</th>\n",
       "      <td>4.0</td>\n",
       "      <td>2</td>\n",
       "      <td>2</td>\n",
       "      <td>0.50</td>\n",
       "      <td>0.50</td>\n",
       "      <td>0.67</td>\n",
       "    </tr>\n",
       "    <tr>\n",
       "      <th>2017-02-03</th>\n",
       "      <td>0.0</td>\n",
       "      <td>1</td>\n",
       "      <td>1</td>\n",
       "      <td>0.00</td>\n",
       "      <td>0.25</td>\n",
       "      <td>0.33</td>\n",
       "    </tr>\n",
       "    <tr>\n",
       "      <th>2017-01-31</th>\n",
       "      <td>8.0</td>\n",
       "      <td>2</td>\n",
       "      <td>2</td>\n",
       "      <td>1.00</td>\n",
       "      <td>0.50</td>\n",
       "      <td>0.67</td>\n",
       "    </tr>\n",
       "    <tr>\n",
       "      <th>2017-01-30</th>\n",
       "      <td>0.0</td>\n",
       "      <td>1</td>\n",
       "      <td>1</td>\n",
       "      <td>0.00</td>\n",
       "      <td>0.25</td>\n",
       "      <td>0.33</td>\n",
       "    </tr>\n",
       "    <tr>\n",
       "      <th rowspan=\"5\" valign=\"top\">20170122</th>\n",
       "      <th>2017-01-27</th>\n",
       "      <td>4.0</td>\n",
       "      <td>1</td>\n",
       "      <td>1</td>\n",
       "      <td>0.50</td>\n",
       "      <td>0.25</td>\n",
       "      <td>0.33</td>\n",
       "    </tr>\n",
       "    <tr>\n",
       "      <th>2017-01-26</th>\n",
       "      <td>3.0</td>\n",
       "      <td>4</td>\n",
       "      <td>2</td>\n",
       "      <td>0.38</td>\n",
       "      <td>1.00</td>\n",
       "      <td>0.67</td>\n",
       "    </tr>\n",
       "    <tr>\n",
       "      <th>2017-01-25</th>\n",
       "      <td>0.0</td>\n",
       "      <td>5</td>\n",
       "      <td>2</td>\n",
       "      <td>0.00</td>\n",
       "      <td>1.25</td>\n",
       "      <td>0.67</td>\n",
       "    </tr>\n",
       "    <tr>\n",
       "      <th>2017-01-24</th>\n",
       "      <td>8.0</td>\n",
       "      <td>2</td>\n",
       "      <td>2</td>\n",
       "      <td>1.00</td>\n",
       "      <td>0.50</td>\n",
       "      <td>0.67</td>\n",
       "    </tr>\n",
       "    <tr>\n",
       "      <th>2017-01-23</th>\n",
       "      <td>4.0</td>\n",
       "      <td>1</td>\n",
       "      <td>1</td>\n",
       "      <td>0.50</td>\n",
       "      <td>0.25</td>\n",
       "      <td>0.33</td>\n",
       "    </tr>\n",
       "    <tr>\n",
       "      <th rowspan=\"6\" valign=\"top\">20170115</th>\n",
       "      <th>2017-01-21</th>\n",
       "      <td>2.0</td>\n",
       "      <td>2</td>\n",
       "      <td>2</td>\n",
       "      <td>0.25</td>\n",
       "      <td>0.50</td>\n",
       "      <td>0.67</td>\n",
       "    </tr>\n",
       "    <tr>\n",
       "      <th>2017-01-20</th>\n",
       "      <td>0.0</td>\n",
       "      <td>1</td>\n",
       "      <td>1</td>\n",
       "      <td>0.00</td>\n",
       "      <td>0.25</td>\n",
       "      <td>0.33</td>\n",
       "    </tr>\n",
       "    <tr>\n",
       "      <th>2017-01-19</th>\n",
       "      <td>4.0</td>\n",
       "      <td>1</td>\n",
       "      <td>1</td>\n",
       "      <td>0.50</td>\n",
       "      <td>0.25</td>\n",
       "      <td>0.33</td>\n",
       "    </tr>\n",
       "    <tr>\n",
       "      <th>2017-01-18</th>\n",
       "      <td>7.0</td>\n",
       "      <td>3</td>\n",
       "      <td>3</td>\n",
       "      <td>0.88</td>\n",
       "      <td>0.75</td>\n",
       "      <td>1.00</td>\n",
       "    </tr>\n",
       "    <tr>\n",
       "      <th>2017-01-17</th>\n",
       "      <td>4.0</td>\n",
       "      <td>2</td>\n",
       "      <td>2</td>\n",
       "      <td>0.50</td>\n",
       "      <td>0.50</td>\n",
       "      <td>0.67</td>\n",
       "    </tr>\n",
       "    <tr>\n",
       "      <th>2017-01-16</th>\n",
       "      <td>0.0</td>\n",
       "      <td>2</td>\n",
       "      <td>2</td>\n",
       "      <td>0.00</td>\n",
       "      <td>0.50</td>\n",
       "      <td>0.67</td>\n",
       "    </tr>\n",
       "    <tr>\n",
       "      <th rowspan=\"7\" valign=\"top\">20170108</th>\n",
       "      <th>2017-01-14</th>\n",
       "      <td>0.0</td>\n",
       "      <td>1</td>\n",
       "      <td>1</td>\n",
       "      <td>0.00</td>\n",
       "      <td>0.25</td>\n",
       "      <td>0.33</td>\n",
       "    </tr>\n",
       "    <tr>\n",
       "      <th>2017-01-13</th>\n",
       "      <td>0.0</td>\n",
       "      <td>2</td>\n",
       "      <td>2</td>\n",
       "      <td>0.00</td>\n",
       "      <td>0.50</td>\n",
       "      <td>0.67</td>\n",
       "    </tr>\n",
       "    <tr>\n",
       "      <th>2017-01-12</th>\n",
       "      <td>4.0</td>\n",
       "      <td>4</td>\n",
       "      <td>4</td>\n",
       "      <td>0.50</td>\n",
       "      <td>1.00</td>\n",
       "      <td>1.33</td>\n",
       "    </tr>\n",
       "    <tr>\n",
       "      <th>2017-01-11</th>\n",
       "      <td>5.0</td>\n",
       "      <td>2</td>\n",
       "      <td>2</td>\n",
       "      <td>0.62</td>\n",
       "      <td>0.50</td>\n",
       "      <td>0.67</td>\n",
       "    </tr>\n",
       "    <tr>\n",
       "      <th>2017-01-10</th>\n",
       "      <td>7.0</td>\n",
       "      <td>5</td>\n",
       "      <td>4</td>\n",
       "      <td>0.88</td>\n",
       "      <td>1.25</td>\n",
       "      <td>1.33</td>\n",
       "    </tr>\n",
       "    <tr>\n",
       "      <th>2017-01-09</th>\n",
       "      <td>0.0</td>\n",
       "      <td>2</td>\n",
       "      <td>2</td>\n",
       "      <td>0.00</td>\n",
       "      <td>0.50</td>\n",
       "      <td>0.67</td>\n",
       "    </tr>\n",
       "    <tr>\n",
       "      <th>2017-01-08</th>\n",
       "      <td>1.0</td>\n",
       "      <td>4</td>\n",
       "      <td>4</td>\n",
       "      <td>0.12</td>\n",
       "      <td>1.00</td>\n",
       "      <td>1.33</td>\n",
       "    </tr>\n",
       "    <tr>\n",
       "      <th rowspan=\"6\" valign=\"top\">20170101</th>\n",
       "      <th>2017-01-07</th>\n",
       "      <td>0.0</td>\n",
       "      <td>2</td>\n",
       "      <td>2</td>\n",
       "      <td>0.00</td>\n",
       "      <td>0.50</td>\n",
       "      <td>0.67</td>\n",
       "    </tr>\n",
       "    <tr>\n",
       "      <th>2017-01-06</th>\n",
       "      <td>0.0</td>\n",
       "      <td>2</td>\n",
       "      <td>2</td>\n",
       "      <td>0.00</td>\n",
       "      <td>0.50</td>\n",
       "      <td>0.67</td>\n",
       "    </tr>\n",
       "    <tr>\n",
       "      <th>2017-01-05</th>\n",
       "      <td>3.0</td>\n",
       "      <td>2</td>\n",
       "      <td>2</td>\n",
       "      <td>0.38</td>\n",
       "      <td>0.50</td>\n",
       "      <td>0.67</td>\n",
       "    </tr>\n",
       "    <tr>\n",
       "      <th>2017-01-04</th>\n",
       "      <td>0.0</td>\n",
       "      <td>3</td>\n",
       "      <td>2</td>\n",
       "      <td>0.00</td>\n",
       "      <td>0.75</td>\n",
       "      <td>0.67</td>\n",
       "    </tr>\n",
       "    <tr>\n",
       "      <th>2017-01-03</th>\n",
       "      <td>5.0</td>\n",
       "      <td>2</td>\n",
       "      <td>2</td>\n",
       "      <td>0.62</td>\n",
       "      <td>0.50</td>\n",
       "      <td>0.67</td>\n",
       "    </tr>\n",
       "    <tr>\n",
       "      <th>2017-01-02</th>\n",
       "      <td>8.0</td>\n",
       "      <td>3</td>\n",
       "      <td>3</td>\n",
       "      <td>1.00</td>\n",
       "      <td>0.75</td>\n",
       "      <td>1.00</td>\n",
       "    </tr>\n",
       "  </tbody>\n",
       "</table>\n",
       "</div>"
      ],
      "text/plain": [
       "                     Time_sum  Task_done  Project_nunique  Ratio_Time  \\\n",
       "Week     Date                                                           \n",
       "20170205 2017-02-06       4.0          4                2        0.50   \n",
       "20170129 2017-02-04       4.0          2                2        0.50   \n",
       "         2017-02-03       0.0          1                1        0.00   \n",
       "         2017-01-31       8.0          2                2        1.00   \n",
       "         2017-01-30       0.0          1                1        0.00   \n",
       "20170122 2017-01-27       4.0          1                1        0.50   \n",
       "         2017-01-26       3.0          4                2        0.38   \n",
       "         2017-01-25       0.0          5                2        0.00   \n",
       "         2017-01-24       8.0          2                2        1.00   \n",
       "         2017-01-23       4.0          1                1        0.50   \n",
       "20170115 2017-01-21       2.0          2                2        0.25   \n",
       "         2017-01-20       0.0          1                1        0.00   \n",
       "         2017-01-19       4.0          1                1        0.50   \n",
       "         2017-01-18       7.0          3                3        0.88   \n",
       "         2017-01-17       4.0          2                2        0.50   \n",
       "         2017-01-16       0.0          2                2        0.00   \n",
       "20170108 2017-01-14       0.0          1                1        0.00   \n",
       "         2017-01-13       0.0          2                2        0.00   \n",
       "         2017-01-12       4.0          4                4        0.50   \n",
       "         2017-01-11       5.0          2                2        0.62   \n",
       "         2017-01-10       7.0          5                4        0.88   \n",
       "         2017-01-09       0.0          2                2        0.00   \n",
       "         2017-01-08       1.0          4                4        0.12   \n",
       "20170101 2017-01-07       0.0          2                2        0.00   \n",
       "         2017-01-06       0.0          2                2        0.00   \n",
       "         2017-01-05       3.0          2                2        0.38   \n",
       "         2017-01-04       0.0          3                2        0.00   \n",
       "         2017-01-03       5.0          2                2        0.62   \n",
       "         2017-01-02       8.0          3                3        1.00   \n",
       "\n",
       "                     Ratio_Task  Ratio_Project  \n",
       "Week     Date                                   \n",
       "20170205 2017-02-06        1.00           0.67  \n",
       "20170129 2017-02-04        0.50           0.67  \n",
       "         2017-02-03        0.25           0.33  \n",
       "         2017-01-31        0.50           0.67  \n",
       "         2017-01-30        0.25           0.33  \n",
       "20170122 2017-01-27        0.25           0.33  \n",
       "         2017-01-26        1.00           0.67  \n",
       "         2017-01-25        1.25           0.67  \n",
       "         2017-01-24        0.50           0.67  \n",
       "         2017-01-23        0.25           0.33  \n",
       "20170115 2017-01-21        0.50           0.67  \n",
       "         2017-01-20        0.25           0.33  \n",
       "         2017-01-19        0.25           0.33  \n",
       "         2017-01-18        0.75           1.00  \n",
       "         2017-01-17        0.50           0.67  \n",
       "         2017-01-16        0.50           0.67  \n",
       "20170108 2017-01-14        0.25           0.33  \n",
       "         2017-01-13        0.50           0.67  \n",
       "         2017-01-12        1.00           1.33  \n",
       "         2017-01-11        0.50           0.67  \n",
       "         2017-01-10        1.25           1.33  \n",
       "         2017-01-09        0.50           0.67  \n",
       "         2017-01-08        1.00           1.33  \n",
       "20170101 2017-01-07        0.50           0.67  \n",
       "         2017-01-06        0.50           0.67  \n",
       "         2017-01-05        0.50           0.67  \n",
       "         2017-01-04        0.75           0.67  \n",
       "         2017-01-03        0.50           0.67  \n",
       "         2017-01-02        0.75           1.00  "
      ]
     },
     "execution_count": 85,
     "metadata": {},
     "output_type": "execute_result"
    }
   ],
   "source": [
    "daily = dfs.groupby(['Week',\"Date\"]).agg({'Time': ['sum'], 'TXT':'count', 'Project':'nunique'})\n",
    "daily.columns = daily.columns.map(mu.flattenCols)\n",
    "daily.rename(columns={\"TXT_count\": \"Task_done\"}, inplace=True)\n",
    "daily['Ratio_Time'] = daily.Time_sum / 8\n",
    "daily['Ratio_Task'] = daily.Task_done / 4\n",
    "daily['Ratio_Project'] = daily.Project_nunique / 3\n",
    "dstat = daily.fillna(0).sort_index(0, ascending=False).round(2)\n",
    "dstat.to_csv(\"rpt/daily_stats.tsv\",sep=\"\\t\")\n",
    "dstat"
   ]
  },
  {
   "cell_type": "code",
   "execution_count": 86,
   "metadata": {
    "collapsed": false,
    "extensions": {
     "jupyter_dashboards": {
      "version": 1,
      "views": {
       "grid_default": {
        "col": 5,
        "height": 14,
        "hidden": false,
        "row": 15,
        "width": 7
       },
       "report_default": {
        "hidden": false
       }
      }
     }
    },
    "scrolled": false
   },
   "outputs": [
    {
     "data": {
      "text/plain": [
       "<matplotlib.axes._subplots.AxesSubplot at 0x7fe27194aeb8>"
      ]
     },
     "execution_count": 86,
     "metadata": {},
     "output_type": "execute_result"
    },
    {
     "data": {
      "image/png": "[encoded data removed]",
      "text/plain": [
       "<matplotlib.figure.Figure at 0x7fe27115fb38>"
      ]
     },
     "metadata": {},
     "output_type": "display_data"
    }
   ],
   "source": [
    "daily.ix[-15:,3:].plot(kind=\"bar\", figsize=[15,3])"
   ]
  },
  {
   "cell_type": "markdown",
   "metadata": {
    "extensions": {
     "jupyter_dashboards": {
      "version": 1,
      "views": {
       "grid_default": {
        "hidden": true
       },
       "report_default": {
        "hidden": false
       }
      }
     }
    }
   },
   "source": [
    "## Weekly Stats"
   ]
  },
  {
   "cell_type": "code",
   "execution_count": 87,
   "metadata": {
    "collapsed": false,
    "extensions": {
     "jupyter_dashboards": {
      "version": 1,
      "views": {
       "grid_default": {
        "col": 0,
        "height": 20,
        "hidden": false,
        "row": 15,
        "width": 5
       },
       "report_default": {
        "hidden": false
       }
      }
     }
    },
    "scrolled": true
   },
   "outputs": [
    {
     "data": {
      "text/html": [
       "<div>\n",
       "<table border=\"1\" class=\"dataframe\">\n",
       "  <thead>\n",
       "    <tr style=\"text-align: right;\">\n",
       "      <th></th>\n",
       "      <th>Time_sum</th>\n",
       "      <th>Task_total</th>\n",
       "      <th>Task_done</th>\n",
       "      <th>Ratio_Time</th>\n",
       "      <th>Ratio_Task</th>\n",
       "    </tr>\n",
       "    <tr>\n",
       "      <th>Week</th>\n",
       "      <th></th>\n",
       "      <th></th>\n",
       "      <th></th>\n",
       "      <th></th>\n",
       "      <th></th>\n",
       "    </tr>\n",
       "  </thead>\n",
       "  <tbody>\n",
       "    <tr>\n",
       "      <th>20170205</th>\n",
       "      <td>4.0</td>\n",
       "      <td>14</td>\n",
       "      <td>4</td>\n",
       "      <td>0.10</td>\n",
       "      <td>0.29</td>\n",
       "    </tr>\n",
       "    <tr>\n",
       "      <th>20170129</th>\n",
       "      <td>12.0</td>\n",
       "      <td>19</td>\n",
       "      <td>6</td>\n",
       "      <td>0.30</td>\n",
       "      <td>0.32</td>\n",
       "    </tr>\n",
       "    <tr>\n",
       "      <th>20170122</th>\n",
       "      <td>19.0</td>\n",
       "      <td>26</td>\n",
       "      <td>13</td>\n",
       "      <td>0.48</td>\n",
       "      <td>0.50</td>\n",
       "    </tr>\n",
       "    <tr>\n",
       "      <th>20170115</th>\n",
       "      <td>17.0</td>\n",
       "      <td>23</td>\n",
       "      <td>11</td>\n",
       "      <td>0.42</td>\n",
       "      <td>0.48</td>\n",
       "    </tr>\n",
       "    <tr>\n",
       "      <th>20170108</th>\n",
       "      <td>17.0</td>\n",
       "      <td>33</td>\n",
       "      <td>20</td>\n",
       "      <td>0.42</td>\n",
       "      <td>0.61</td>\n",
       "    </tr>\n",
       "    <tr>\n",
       "      <th>20170101</th>\n",
       "      <td>18.0</td>\n",
       "      <td>24</td>\n",
       "      <td>14</td>\n",
       "      <td>0.45</td>\n",
       "      <td>0.58</td>\n",
       "    </tr>\n",
       "  </tbody>\n",
       "</table>\n",
       "</div>"
      ],
      "text/plain": [
       "          Time_sum  Task_total  Task_done  Ratio_Time  Ratio_Task\n",
       "Week                                                             \n",
       "20170205       4.0          14          4        0.10        0.29\n",
       "20170129      12.0          19          6        0.30        0.32\n",
       "20170122      19.0          26         13        0.48        0.50\n",
       "20170115      17.0          23         11        0.42        0.48\n",
       "20170108      17.0          33         20        0.42        0.61\n",
       "20170101      18.0          24         14        0.45        0.58"
      ]
     },
     "execution_count": 87,
     "metadata": {},
     "output_type": "execute_result"
    }
   ],
   "source": [
    "weekly = dfs.groupby([\"Week\"]).agg({'Time': ['sum'], 'TXT': 'count', 'Date': 'count'})\n",
    "weekly.columns = weekly.columns.map(mu.flattenCols)\n",
    "weekly.rename(columns={\"TXT_count\": \"Task_total\", \"Date_count\": \"Task_done\"}, inplace=True)\n",
    "weekly.fillna(0).sort_index(0, ascending=False)\n",
    "weekly['Ratio_Time'] = weekly.Time_sum / 40\n",
    "weekly['Ratio_Task'] = weekly.Task_done / weekly.Task_total\n",
    "wstat = weekly.fillna(0).sort_index(0, ascending=False).round(2)\n",
    "wstat.to_csv(\"rpt/weekly_stats.tsv\",sep=\"\\t\")\n",
    "wstat"
   ]
  },
  {
   "cell_type": "code",
   "execution_count": 88,
   "metadata": {
    "collapsed": false,
    "extensions": {
     "jupyter_dashboards": {
      "version": 1,
      "views": {
       "grid_default": {
        "col": 0,
        "height": 15,
        "hidden": false,
        "row": 0,
        "width": 8
       },
       "report_default": {
        "hidden": false
       }
      }
     }
    },
    "scrolled": true
   },
   "outputs": [
    {
     "data": {
      "text/plain": [
       "<matplotlib.axes._subplots.AxesSubplot at 0x7fe270fa3588>"
      ]
     },
     "execution_count": 88,
     "metadata": {},
     "output_type": "execute_result"
    },
    {
     "data": {
      "image/png": "[encoded data removed]",
      "text/plain": [
       "<matplotlib.figure.Figure at 0x7fe271094390>"
      ]
     },
     "metadata": {},
     "output_type": "display_data"
    }
   ],
   "source": [
    "weekly.ix[:,3:].plot(kind=\"bar\", figsize=[10,3])"
   ]
  }
 ],
 "metadata": {
  "anaconda-cloud": {},
  "extensions": {
   "jupyter_dashboards": {
    "activeView": "grid_default",
    "version": 1,
    "views": {
     "grid_default": {
      "cellMargin": 10,
      "defaultCellHeight": 20,
      "maxColumns": 12,
      "name": "grid",
      "type": "grid"
     },
     "report_default": {
      "name": "report",
      "type": "report"
     }
    }
   }
  },
  "kernelspec": {
   "display_name": "Python 3",
   "language": "python",
   "name": "python3"
  },
  "language_info": {
   "codemirror_mode": {
    "name": "ipython",
    "version": 3
   },
   "file_extension": ".py",
   "mimetype": "text/x-python",
   "name": "python",
   "nbconvert_exporter": "python",
   "pygments_lexer": "ipython3",
   "version": "3.6.0"
  }
 },
 "nbformat": 4,
 "nbformat_minor": 0
}
