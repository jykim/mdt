{
 "cells": [
  {
   "cell_type": "code",
   "execution_count": 1,
   "metadata": {
    "collapsed": false
   },
   "outputs": [],
   "source": [
    "%matplotlib inline\n",
    "%load_ext autoreload\n",
    "%autoreload\n",
    "from mdt import *\n",
    "\n",
    "#import mdt.mdt_parse as mp\n",
    "#import mdt.mdt_stat as ms\n",
    "#import importlib as imp\n",
    "#imp.reload(mp)\n"
   ]
  },
  {
   "cell_type": "markdown",
   "metadata": {},
   "source": [
    "# Parser\n",
    "## Markdown"
   ]
  },
  {
   "cell_type": "code",
   "execution_count": 2,
   "metadata": {
    "collapsed": false
   },
   "outputs": [
    {
     "data": {
      "text/html": [
       "<div>\n",
       "<table border=\"1\" class=\"dataframe\">\n",
       "  <thead>\n",
       "    <tr style=\"text-align: right;\">\n",
       "      <th></th>\n",
       "      <th>Filename</th>\n",
       "      <th>ID</th>\n",
       "      <th>T1</th>\n",
       "      <th>T2</th>\n",
       "      <th>T3</th>\n",
       "      <th>TXT</th>\n",
       "    </tr>\n",
       "  </thead>\n",
       "  <tbody>\n",
       "    <tr>\n",
       "      <th>0</th>\n",
       "      <td>mdt_demo</td>\n",
       "      <td>2.0.0</td>\n",
       "      <td>T2</td>\n",
       "      <td>None</td>\n",
       "      <td>None</td>\n",
       "      <td>You can use additional markups:</td>\n",
       "    </tr>\n",
       "    <tr>\n",
       "      <th>1</th>\n",
       "      <td>mdt_demo</td>\n",
       "      <td>2.0.0</td>\n",
       "      <td>T2</td>\n",
       "      <td>None</td>\n",
       "      <td>None</td>\n",
       "      <td>* [] Task2</td>\n",
       "    </tr>\n",
       "    <tr>\n",
       "      <th>2</th>\n",
       "      <td>mdt_demo</td>\n",
       "      <td>2.0.0</td>\n",
       "      <td>T2</td>\n",
       "      <td>None</td>\n",
       "      <td>None</td>\n",
       "      <td>* [v] Task2 #tag1:1 #tag2:1.5 #tag1</td>\n",
       "    </tr>\n",
       "    <tr>\n",
       "      <th>3</th>\n",
       "      <td>mdt_demo</td>\n",
       "      <td>2.0.0</td>\n",
       "      <td>T2</td>\n",
       "      <td>None</td>\n",
       "      <td>None</td>\n",
       "      <td>* [v] #tag2:2 [v] #tag2:3.5</td>\n",
       "    </tr>\n",
       "    <tr>\n",
       "      <th>4</th>\n",
       "      <td>mdt_demo</td>\n",
       "      <td>2.1.0</td>\n",
       "      <td>T2</td>\n",
       "      <td>T2-1</td>\n",
       "      <td>None</td>\n",
       "      <td>* [v] Task21 #tag1</td>\n",
       "    </tr>\n",
       "  </tbody>\n",
       "</table>\n",
       "</div>"
      ],
      "text/plain": [
       "   Filename     ID  T1    T2    T3                                  TXT\n",
       "0  mdt_demo  2.0.0  T2  None  None      You can use additional markups:\n",
       "1  mdt_demo  2.0.0  T2  None  None                           * [] Task2\n",
       "2  mdt_demo  2.0.0  T2  None  None  * [v] Task2 #tag1:1 #tag2:1.5 #tag1\n",
       "3  mdt_demo  2.0.0  T2  None  None          * [v] #tag2:2 [v] #tag2:3.5\n",
       "4  mdt_demo  2.1.0  T2  T2-1  None                   * [v] Task21 #tag1"
      ]
     },
     "execution_count": 2,
     "metadata": {},
     "output_type": "execute_result"
    }
   ],
   "source": [
    "dta = mp.parse_md_files(\"../mdt/mdt/mdt_demo.md\")\n",
    "dta.head()\n",
    "#dta"
   ]
  },
  {
   "cell_type": "markdown",
   "metadata": {},
   "source": [
    "## TaskPaper"
   ]
  },
  {
   "cell_type": "code",
   "execution_count": 3,
   "metadata": {
    "collapsed": false,
    "scrolled": true
   },
   "outputs": [
    {
     "data": {
      "text/html": [
       "<div>\n",
       "<table border=\"1\" class=\"dataframe\">\n",
       "  <thead>\n",
       "    <tr style=\"text-align: right;\">\n",
       "      <th></th>\n",
       "      <th>Filename</th>\n",
       "      <th>ID</th>\n",
       "      <th>T1</th>\n",
       "      <th>T2</th>\n",
       "      <th>T3</th>\n",
       "      <th>TXT</th>\n",
       "    </tr>\n",
       "  </thead>\n",
       "  <tbody>\n",
       "    <tr>\n",
       "      <th>0</th>\n",
       "      <td>mdt_demo1</td>\n",
       "      <td>1.0.0</td>\n",
       "      <td>Prj1</td>\n",
       "      <td>None</td>\n",
       "      <td>None</td>\n",
       "      <td>- Task1</td>\n",
       "    </tr>\n",
       "    <tr>\n",
       "      <th>1</th>\n",
       "      <td>mdt_demo1</td>\n",
       "      <td>1.0.0</td>\n",
       "      <td>Prj1</td>\n",
       "      <td>None</td>\n",
       "      <td>None</td>\n",
       "      <td>- Task2 @done(2017-01-02)</td>\n",
       "    </tr>\n",
       "    <tr>\n",
       "      <th>2</th>\n",
       "      <td>mdt_demo1</td>\n",
       "      <td>2.0.0</td>\n",
       "      <td>Prj2</td>\n",
       "      <td>None</td>\n",
       "      <td>None</td>\n",
       "      <td>- Task3 @p(1) @done(2017-01-02)</td>\n",
       "    </tr>\n",
       "    <tr>\n",
       "      <th>3</th>\n",
       "      <td>mdt_demo1</td>\n",
       "      <td>2.0.0</td>\n",
       "      <td>Prj2</td>\n",
       "      <td>None</td>\n",
       "      <td>None</td>\n",
       "      <td>- Task4 @p(3) @p(2)</td>\n",
       "    </tr>\n",
       "    <tr>\n",
       "      <th>0</th>\n",
       "      <td>mdt_demo2</td>\n",
       "      <td>1.0.0</td>\n",
       "      <td>Prj1</td>\n",
       "      <td>None</td>\n",
       "      <td>None</td>\n",
       "      <td>- Task5</td>\n",
       "    </tr>\n",
       "    <tr>\n",
       "      <th>1</th>\n",
       "      <td>mdt_demo2</td>\n",
       "      <td>1.0.0</td>\n",
       "      <td>Prj1</td>\n",
       "      <td>None</td>\n",
       "      <td>None</td>\n",
       "      <td>- Task6 @done(2017-01-09)</td>\n",
       "    </tr>\n",
       "    <tr>\n",
       "      <th>2</th>\n",
       "      <td>mdt_demo2</td>\n",
       "      <td>2.0.0</td>\n",
       "      <td>Prj2</td>\n",
       "      <td>None</td>\n",
       "      <td>None</td>\n",
       "      <td>- Task7 @p(1) @done(2017-01-10)</td>\n",
       "    </tr>\n",
       "    <tr>\n",
       "      <th>3</th>\n",
       "      <td>mdt_demo2</td>\n",
       "      <td>2.0.0</td>\n",
       "      <td>Prj2</td>\n",
       "      <td>None</td>\n",
       "      <td>None</td>\n",
       "      <td>- Task8 @p(3) @p(2)</td>\n",
       "    </tr>\n",
       "  </tbody>\n",
       "</table>\n",
       "</div>"
      ],
      "text/plain": [
       "    Filename     ID    T1    T2    T3                              TXT\n",
       "0  mdt_demo1  1.0.0  Prj1  None  None                          - Task1\n",
       "1  mdt_demo1  1.0.0  Prj1  None  None        - Task2 @done(2017-01-02)\n",
       "2  mdt_demo1  2.0.0  Prj2  None  None  - Task3 @p(1) @done(2017-01-02)\n",
       "3  mdt_demo1  2.0.0  Prj2  None  None              - Task4 @p(3) @p(2)\n",
       "0  mdt_demo2  1.0.0  Prj1  None  None                          - Task5\n",
       "1  mdt_demo2  1.0.0  Prj1  None  None        - Task6 @done(2017-01-09)\n",
       "2  mdt_demo2  2.0.0  Prj2  None  None  - Task7 @p(1) @done(2017-01-10)\n",
       "3  mdt_demo2  2.0.0  Prj2  None  None              - Task8 @p(3) @p(2)"
      ]
     },
     "execution_count": 3,
     "metadata": {},
     "output_type": "execute_result"
    }
   ],
   "source": [
    "mp.P_T1 = r\"^(.*):$\"\n",
    "mp.C_TITLE = \":\"\n",
    "dta = mp.parse_md_files(\"../mdt/mdt/mdt_demo*.taskpaper\")\n",
    "dta"
   ]
  },
  {
   "cell_type": "markdown",
   "metadata": {},
   "source": [
    "# Stats"
   ]
  },
  {
   "cell_type": "code",
   "execution_count": 4,
   "metadata": {
    "collapsed": false
   },
   "outputs": [
    {
     "data": {
      "text/html": [
       "<div>\n",
       "<table border=\"1\" class=\"dataframe\">\n",
       "  <thead>\n",
       "    <tr style=\"text-align: right;\">\n",
       "      <th></th>\n",
       "      <th>done</th>\n",
       "      <th>p</th>\n",
       "    </tr>\n",
       "  </thead>\n",
       "  <tbody>\n",
       "    <tr>\n",
       "      <th>0</th>\n",
       "      <td>NaN</td>\n",
       "      <td>NaN</td>\n",
       "    </tr>\n",
       "    <tr>\n",
       "      <th>1</th>\n",
       "      <td>2017-01-02</td>\n",
       "      <td>NaN</td>\n",
       "    </tr>\n",
       "    <tr>\n",
       "      <th>2</th>\n",
       "      <td>2017-01-02</td>\n",
       "      <td>1.0</td>\n",
       "    </tr>\n",
       "    <tr>\n",
       "      <th>3</th>\n",
       "      <td>NaN</td>\n",
       "      <td>5.0</td>\n",
       "    </tr>\n",
       "    <tr>\n",
       "      <th>0</th>\n",
       "      <td>NaN</td>\n",
       "      <td>NaN</td>\n",
       "    </tr>\n",
       "    <tr>\n",
       "      <th>1</th>\n",
       "      <td>2017-01-09</td>\n",
       "      <td>NaN</td>\n",
       "    </tr>\n",
       "    <tr>\n",
       "      <th>2</th>\n",
       "      <td>2017-01-10</td>\n",
       "      <td>1.0</td>\n",
       "    </tr>\n",
       "    <tr>\n",
       "      <th>3</th>\n",
       "      <td>NaN</td>\n",
       "      <td>5.0</td>\n",
       "    </tr>\n",
       "  </tbody>\n",
       "</table>\n",
       "</div>"
      ],
      "text/plain": [
       "         done    p\n",
       "0         NaN  NaN\n",
       "1  2017-01-02  NaN\n",
       "2  2017-01-02  1.0\n",
       "3         NaN  5.0\n",
       "0         NaN  NaN\n",
       "1  2017-01-09  NaN\n",
       "2  2017-01-10  1.0\n",
       "3         NaN  5.0"
      ]
     },
     "execution_count": 4,
     "metadata": {},
     "output_type": "execute_result"
    }
   ],
   "source": [
    "reload(ms)\n",
    "dta.apply(ms.stat_journal,axis=1)"
   ]
  },
  {
   "cell_type": "code",
   "execution_count": 5,
   "metadata": {
    "collapsed": false,
    "scrolled": false
   },
   "outputs": [
    {
     "data": {
      "text/html": [
       "<div>\n",
       "<table border=\"1\" class=\"dataframe\">\n",
       "  <thead>\n",
       "    <tr style=\"text-align: right;\">\n",
       "      <th></th>\n",
       "      <th>Filename</th>\n",
       "      <th>ID</th>\n",
       "      <th>T1</th>\n",
       "      <th>T2</th>\n",
       "      <th>T3</th>\n",
       "      <th>TXT</th>\n",
       "      <th>done</th>\n",
       "      <th>p</th>\n",
       "    </tr>\n",
       "  </thead>\n",
       "  <tbody>\n",
       "    <tr>\n",
       "      <th>0</th>\n",
       "      <td>mdt_demo1</td>\n",
       "      <td>1.0.0</td>\n",
       "      <td>Prj1</td>\n",
       "      <td>None</td>\n",
       "      <td>None</td>\n",
       "      <td>- Task1</td>\n",
       "      <td>NaN</td>\n",
       "      <td>NaN</td>\n",
       "    </tr>\n",
       "    <tr>\n",
       "      <th>1</th>\n",
       "      <td>mdt_demo1</td>\n",
       "      <td>1.0.0</td>\n",
       "      <td>Prj1</td>\n",
       "      <td>None</td>\n",
       "      <td>None</td>\n",
       "      <td>- Task2 @done(2017-01-02)</td>\n",
       "      <td>2017-01-02</td>\n",
       "      <td>NaN</td>\n",
       "    </tr>\n",
       "    <tr>\n",
       "      <th>2</th>\n",
       "      <td>mdt_demo1</td>\n",
       "      <td>2.0.0</td>\n",
       "      <td>Prj2</td>\n",
       "      <td>None</td>\n",
       "      <td>None</td>\n",
       "      <td>- Task3 @p(1) @done(2017-01-02)</td>\n",
       "      <td>2017-01-02</td>\n",
       "      <td>1.0</td>\n",
       "    </tr>\n",
       "    <tr>\n",
       "      <th>3</th>\n",
       "      <td>mdt_demo1</td>\n",
       "      <td>2.0.0</td>\n",
       "      <td>Prj2</td>\n",
       "      <td>None</td>\n",
       "      <td>None</td>\n",
       "      <td>- Task4 @p(3) @p(2)</td>\n",
       "      <td>NaN</td>\n",
       "      <td>5.0</td>\n",
       "    </tr>\n",
       "    <tr>\n",
       "      <th>0</th>\n",
       "      <td>mdt_demo2</td>\n",
       "      <td>1.0.0</td>\n",
       "      <td>Prj1</td>\n",
       "      <td>None</td>\n",
       "      <td>None</td>\n",
       "      <td>- Task5</td>\n",
       "      <td>NaN</td>\n",
       "      <td>NaN</td>\n",
       "    </tr>\n",
       "    <tr>\n",
       "      <th>1</th>\n",
       "      <td>mdt_demo2</td>\n",
       "      <td>1.0.0</td>\n",
       "      <td>Prj1</td>\n",
       "      <td>None</td>\n",
       "      <td>None</td>\n",
       "      <td>- Task6 @done(2017-01-09)</td>\n",
       "      <td>2017-01-09</td>\n",
       "      <td>NaN</td>\n",
       "    </tr>\n",
       "    <tr>\n",
       "      <th>2</th>\n",
       "      <td>mdt_demo2</td>\n",
       "      <td>2.0.0</td>\n",
       "      <td>Prj2</td>\n",
       "      <td>None</td>\n",
       "      <td>None</td>\n",
       "      <td>- Task7 @p(1) @done(2017-01-10)</td>\n",
       "      <td>2017-01-10</td>\n",
       "      <td>1.0</td>\n",
       "    </tr>\n",
       "    <tr>\n",
       "      <th>3</th>\n",
       "      <td>mdt_demo2</td>\n",
       "      <td>2.0.0</td>\n",
       "      <td>Prj2</td>\n",
       "      <td>None</td>\n",
       "      <td>None</td>\n",
       "      <td>- Task8 @p(3) @p(2)</td>\n",
       "      <td>NaN</td>\n",
       "      <td>5.0</td>\n",
       "    </tr>\n",
       "  </tbody>\n",
       "</table>\n",
       "</div>"
      ],
      "text/plain": [
       "    Filename     ID    T1    T2    T3                              TXT  \\\n",
       "0  mdt_demo1  1.0.0  Prj1  None  None                          - Task1   \n",
       "1  mdt_demo1  1.0.0  Prj1  None  None        - Task2 @done(2017-01-02)   \n",
       "2  mdt_demo1  2.0.0  Prj2  None  None  - Task3 @p(1) @done(2017-01-02)   \n",
       "3  mdt_demo1  2.0.0  Prj2  None  None              - Task4 @p(3) @p(2)   \n",
       "0  mdt_demo2  1.0.0  Prj1  None  None                          - Task5   \n",
       "1  mdt_demo2  1.0.0  Prj1  None  None        - Task6 @done(2017-01-09)   \n",
       "2  mdt_demo2  2.0.0  Prj2  None  None  - Task7 @p(1) @done(2017-01-10)   \n",
       "3  mdt_demo2  2.0.0  Prj2  None  None              - Task8 @p(3) @p(2)   \n",
       "\n",
       "         done    p  \n",
       "0         NaN  NaN  \n",
       "1  2017-01-02  NaN  \n",
       "2  2017-01-02  1.0  \n",
       "3         NaN  5.0  \n",
       "0         NaN  NaN  \n",
       "1  2017-01-09  NaN  \n",
       "2  2017-01-10  1.0  \n",
       "3         NaN  5.0  "
      ]
     },
     "execution_count": 5,
     "metadata": {},
     "output_type": "execute_result"
    }
   ],
   "source": [
    "eload(ms)\n",
    "ms.add_stat(dta, \"done,p\")"
   ]
  },
  {
   "cell_type": "markdown",
   "metadata": {},
   "source": [
    "# Visualization"
   ]
  },
  {
   "cell_type": "markdown",
   "metadata": {},
   "source": [
    "## Bokeh"
   ]
  },
  {
   "cell_type": "code",
   "execution_count": 1,
   "metadata": {
    "collapsed": false
   },
   "outputs": [
    {
     "data": {
      "text/html": [
       "\n",
       "    <div class=\"bk-root\">\n",
       "        <a href=\"http://bokeh.pydata.org\" target=\"_blank\" class=\"bk-logo bk-logo-small bk-logo-notebook\"></a>\n",
       "        <span id=\"3cb8637e-25a4-48ff-b103-4ba308548d50\">Loading BokehJS ...</span>\n",
       "    </div>"
      ]
     },
     "metadata": {},
     "output_type": "display_data"
    },
    {
     "data": {
      "application/javascript": [
       "\n",
       "(function(global) {\n",
       "  function now() {\n",
       "    return new Date();\n",
       "  }\n",
       "\n",
       "  var force = true;\n",
       "\n",
       "  if (typeof (window._bokeh_onload_callbacks) === \"undefined\" || force === true) {\n",
       "    window._bokeh_onload_callbacks = [];\n",
       "    window._bokeh_is_loading = undefined;\n",
       "  }\n",
       "\n",
       "\n",
       "  \n",
       "  if (typeof (window._bokeh_timeout) === \"undefined\" || force === true) {\n",
       "    window._bokeh_timeout = Date.now() + 5000;\n",
       "    window._bokeh_failed_load = false;\n",
       "  }\n",
       "\n",
       "  var NB_LOAD_WARNING = {'data': {'text/html':\n",
       "     \"<div style='background-color: #fdd'>\\n\"+\n",
       "     \"<p>\\n\"+\n",
       "     \"BokehJS does not appear to have successfully loaded. If loading BokehJS from CDN, this \\n\"+\n",
       "     \"may be due to a slow or bad network connection. Possible fixes:\\n\"+\n",
       "     \"</p>\\n\"+\n",
       "     \"<ul>\\n\"+\n",
       "     \"<li>re-rerun `output_notebook()` to attempt to load from CDN again, or</li>\\n\"+\n",
       "     \"<li>use INLINE resources instead, as so:</li>\\n\"+\n",
       "     \"</ul>\\n\"+\n",
       "     \"<code>\\n\"+\n",
       "     \"from bokeh.resources import INLINE\\n\"+\n",
       "     \"output_notebook(resources=INLINE)\\n\"+\n",
       "     \"</code>\\n\"+\n",
       "     \"</div>\"}};\n",
       "\n",
       "  function display_loaded() {\n",
       "    if (window.Bokeh !== undefined) {\n",
       "      document.getElementById(\"3cb8637e-25a4-48ff-b103-4ba308548d50\").textContent = \"BokehJS successfully loaded.\";\n",
       "    } else if (Date.now() < window._bokeh_timeout) {\n",
       "      setTimeout(display_loaded, 100)\n",
       "    }\n",
       "  }\n",
       "\n",
       "  function run_callbacks() {\n",
       "    window._bokeh_onload_callbacks.forEach(function(callback) { callback() });\n",
       "    delete window._bokeh_onload_callbacks\n",
       "    console.info(\"Bokeh: all callbacks have finished\");\n",
       "  }\n",
       "\n",
       "  function load_libs(js_urls, callback) {\n",
       "    window._bokeh_onload_callbacks.push(callback);\n",
       "    if (window._bokeh_is_loading > 0) {\n",
       "      console.log(\"Bokeh: BokehJS is being loaded, scheduling callback at\", now());\n",
       "      return null;\n",
       "    }\n",
       "    if (js_urls == null || js_urls.length === 0) {\n",
       "      run_callbacks();\n",
       "      return null;\n",
       "    }\n",
       "    console.log(\"Bokeh: BokehJS not loaded, scheduling load and callback at\", now());\n",
       "    window._bokeh_is_loading = js_urls.length;\n",
       "    for (var i = 0; i < js_urls.length; i++) {\n",
       "      var url = js_urls[i];\n",
       "      var s = document.createElement('script');\n",
       "      s.src = url;\n",
       "      s.async = false;\n",
       "      s.onreadystatechange = s.onload = function() {\n",
       "        window._bokeh_is_loading--;\n",
       "        if (window._bokeh_is_loading === 0) {\n",
       "          console.log(\"Bokeh: all BokehJS libraries loaded\");\n",
       "          run_callbacks()\n",
       "        }\n",
       "      };\n",
       "      s.onerror = function() {\n",
       "        console.warn(\"failed to load library \" + url);\n",
       "      };\n",
       "      console.log(\"Bokeh: injecting script tag for BokehJS library: \", url);\n",
       "      document.getElementsByTagName(\"head\")[0].appendChild(s);\n",
       "    }\n",
       "  };var element = document.getElementById(\"3cb8637e-25a4-48ff-b103-4ba308548d50\");\n",
       "  if (element == null) {\n",
       "    console.log(\"Bokeh: ERROR: autoload.js configured with elementid '3cb8637e-25a4-48ff-b103-4ba308548d50' but no matching script tag was found. \")\n",
       "    return false;\n",
       "  }\n",
       "\n",
       "  var js_urls = [\"https://cdn.pydata.org/bokeh/release/bokeh-0.12.4.min.js\", \"https://cdn.pydata.org/bokeh/release/bokeh-widgets-0.12.4.min.js\"];\n",
       "\n",
       "  var inline_js = [\n",
       "    function(Bokeh) {\n",
       "      Bokeh.set_log_level(\"info\");\n",
       "    },\n",
       "    \n",
       "    function(Bokeh) {\n",
       "      \n",
       "      document.getElementById(\"3cb8637e-25a4-48ff-b103-4ba308548d50\").textContent = \"BokehJS is loading...\";\n",
       "    },\n",
       "    function(Bokeh) {\n",
       "      console.log(\"Bokeh: injecting CSS: https://cdn.pydata.org/bokeh/release/bokeh-0.12.4.min.css\");\n",
       "      Bokeh.embed.inject_css(\"https://cdn.pydata.org/bokeh/release/bokeh-0.12.4.min.css\");\n",
       "      console.log(\"Bokeh: injecting CSS: https://cdn.pydata.org/bokeh/release/bokeh-widgets-0.12.4.min.css\");\n",
       "      Bokeh.embed.inject_css(\"https://cdn.pydata.org/bokeh/release/bokeh-widgets-0.12.4.min.css\");\n",
       "    }\n",
       "  ];\n",
       "\n",
       "  function run_inline_js() {\n",
       "    \n",
       "    if ((window.Bokeh !== undefined) || (force === true)) {\n",
       "      for (var i = 0; i < inline_js.length; i++) {\n",
       "        inline_js[i](window.Bokeh);\n",
       "      }if (force === true) {\n",
       "        display_loaded();\n",
       "      }} else if (Date.now() < window._bokeh_timeout) {\n",
       "      setTimeout(run_inline_js, 100);\n",
       "    } else if (!window._bokeh_failed_load) {\n",
       "      console.log(\"Bokeh: BokehJS failed to load within specified timeout.\");\n",
       "      window._bokeh_failed_load = true;\n",
       "    } else if (force !== true) {\n",
       "      var cell = $(document.getElementById(\"3cb8637e-25a4-48ff-b103-4ba308548d50\")).parents('.cell').data().cell;\n",
       "      cell.output_area.append_execute_result(NB_LOAD_WARNING)\n",
       "    }\n",
       "\n",
       "  }\n",
       "\n",
       "  if (window._bokeh_is_loading === 0) {\n",
       "    console.log(\"Bokeh: BokehJS loaded, going straight to plotting\");\n",
       "    run_inline_js();\n",
       "  } else {\n",
       "    load_libs(js_urls, function() {\n",
       "      console.log(\"Bokeh: BokehJS plotting callback run at\", now());\n",
       "      run_inline_js();\n",
       "    });\n",
       "  }\n",
       "}(this));"
      ]
     },
     "metadata": {},
     "output_type": "display_data"
    }
   ],
   "source": [
    "from bokeh.io import push_notebook, show, output_notebook\n",
    "from bokeh.layouts import row\n",
    "from bokeh.plotting import figure\n",
    "output_notebook()"
   ]
  },
  {
   "cell_type": "code",
   "execution_count": 2,
   "metadata": {
    "collapsed": false
   },
   "outputs": [
    {
     "ename": "NameError",
     "evalue": "name 'output_file' is not defined",
     "output_type": "error",
     "traceback": [
      "\u001b[1;31m---------------------------------------------------------------------------\u001b[0m",
      "\u001b[1;31mNameError\u001b[0m                                 Traceback (most recent call last)",
      "\u001b[1;32m<ipython-input-2-23699a2878be>\u001b[0m in \u001b[0;36m<module>\u001b[1;34m()\u001b[0m\n\u001b[0;32m      4\u001b[0m \u001b[1;33m\u001b[0m\u001b[0m\n\u001b[0;32m      5\u001b[0m \u001b[1;31m# output to static HTML file\u001b[0m\u001b[1;33m\u001b[0m\u001b[1;33m\u001b[0m\u001b[0m\n\u001b[1;32m----> 6\u001b[1;33m \u001b[0moutput_file\u001b[0m\u001b[1;33m(\u001b[0m\u001b[1;34m\"lines.html\"\u001b[0m\u001b[1;33m)\u001b[0m\u001b[1;33m\u001b[0m\u001b[0m\n\u001b[0m\u001b[0;32m      7\u001b[0m \u001b[1;33m\u001b[0m\u001b[0m\n\u001b[0;32m      8\u001b[0m \u001b[1;31m# create a new plot with a title and axis labels\u001b[0m\u001b[1;33m\u001b[0m\u001b[1;33m\u001b[0m\u001b[0m\n",
      "\u001b[1;31mNameError\u001b[0m: name 'output_file' is not defined"
     ]
    }
   ],
   "source": []
  },
  {
   "cell_type": "markdown",
   "metadata": {},
   "source": [
    "## ggolpt"
   ]
  },
  {
   "cell_type": "code",
   "execution_count": 11,
   "metadata": {
    "collapsed": false,
    "scrolled": true
   },
   "outputs": [
    {
     "data": {
      "text/html": [
       "<div>\n",
       "<table border=\"1\" class=\"dataframe\">\n",
       "  <thead>\n",
       "    <tr style=\"text-align: right;\">\n",
       "      <th></th>\n",
       "      <th>carat</th>\n",
       "      <th>cut</th>\n",
       "      <th>color</th>\n",
       "      <th>clarity</th>\n",
       "      <th>depth</th>\n",
       "      <th>table</th>\n",
       "      <th>price</th>\n",
       "      <th>x</th>\n",
       "      <th>y</th>\n",
       "      <th>z</th>\n",
       "    </tr>\n",
       "  </thead>\n",
       "  <tbody>\n",
       "    <tr>\n",
       "      <th>0</th>\n",
       "      <td>0.23</td>\n",
       "      <td>Ideal</td>\n",
       "      <td>E</td>\n",
       "      <td>SI2</td>\n",
       "      <td>61.5</td>\n",
       "      <td>55.0</td>\n",
       "      <td>326</td>\n",
       "      <td>3.95</td>\n",
       "      <td>3.98</td>\n",
       "      <td>2.43</td>\n",
       "    </tr>\n",
       "    <tr>\n",
       "      <th>1</th>\n",
       "      <td>0.21</td>\n",
       "      <td>Premium</td>\n",
       "      <td>E</td>\n",
       "      <td>SI1</td>\n",
       "      <td>59.8</td>\n",
       "      <td>61.0</td>\n",
       "      <td>326</td>\n",
       "      <td>3.89</td>\n",
       "      <td>3.84</td>\n",
       "      <td>2.31</td>\n",
       "    </tr>\n",
       "    <tr>\n",
       "      <th>2</th>\n",
       "      <td>0.23</td>\n",
       "      <td>Good</td>\n",
       "      <td>E</td>\n",
       "      <td>VS1</td>\n",
       "      <td>56.9</td>\n",
       "      <td>65.0</td>\n",
       "      <td>327</td>\n",
       "      <td>4.05</td>\n",
       "      <td>4.07</td>\n",
       "      <td>2.31</td>\n",
       "    </tr>\n",
       "    <tr>\n",
       "      <th>3</th>\n",
       "      <td>0.29</td>\n",
       "      <td>Premium</td>\n",
       "      <td>I</td>\n",
       "      <td>VS2</td>\n",
       "      <td>62.4</td>\n",
       "      <td>58.0</td>\n",
       "      <td>334</td>\n",
       "      <td>4.20</td>\n",
       "      <td>4.23</td>\n",
       "      <td>2.63</td>\n",
       "    </tr>\n",
       "    <tr>\n",
       "      <th>4</th>\n",
       "      <td>0.31</td>\n",
       "      <td>Good</td>\n",
       "      <td>J</td>\n",
       "      <td>SI2</td>\n",
       "      <td>63.3</td>\n",
       "      <td>58.0</td>\n",
       "      <td>335</td>\n",
       "      <td>4.34</td>\n",
       "      <td>4.35</td>\n",
       "      <td>2.75</td>\n",
       "    </tr>\n",
       "  </tbody>\n",
       "</table>\n",
       "</div>"
      ],
      "text/plain": [
       "   carat      cut color clarity  depth  table  price     x     y     z\n",
       "0   0.23    Ideal     E     SI2   61.5   55.0    326  3.95  3.98  2.43\n",
       "1   0.21  Premium     E     SI1   59.8   61.0    326  3.89  3.84  2.31\n",
       "2   0.23     Good     E     VS1   56.9   65.0    327  4.05  4.07  2.31\n",
       "3   0.29  Premium     I     VS2   62.4   58.0    334  4.20  4.23  2.63\n",
       "4   0.31     Good     J     SI2   63.3   58.0    335  4.34  4.35  2.75"
      ]
     },
     "execution_count": 11,
     "metadata": {},
     "output_type": "execute_result"
    }
   ],
   "source": [
    "from ggplot import *\n",
    "diamonds.head()"
   ]
  },
  {
   "cell_type": "code",
   "execution_count": 16,
   "metadata": {
    "collapsed": false,
    "scrolled": false
   },
   "outputs": [
    {
     "name": "stderr",
     "output_type": "stream",
     "text": [
      "C:\\Install\\Conda3\\lib\\site-packages\\ggplot\\stats\\stat_smooth.py:77: FutureWarning: sort(columns=....) is deprecated, use sort_values(by=.....)\n",
      "  smoothed_data = smoothed_data.sort('x')\n"
     ]
    },
    {
     "data": {
      "image/png": "[encoded data removed]",
      "text/plain": [
       "<matplotlib.figure.Figure at 0x20453d44860>"
      ]
     },
     "metadata": {},
     "output_type": "display_data"
    },
    {
     "data": {
      "text/plain": [
       "<ggplot: (138600597922)>"
      ]
     },
     "execution_count": 16,
     "metadata": {},
     "output_type": "execute_result"
    }
   ],
   "source": [
    "p = ggplot(aes(x='date', y='beef'), data=meat)\n",
    "p + geom_point() + geom_line() + stat_smooth(color='blue')"
   ]
  },
  {
   "cell_type": "markdown",
   "metadata": {},
   "source": [
    "# Dropbox I/O"
   ]
  },
  {
   "cell_type": "code",
   "execution_count": 37,
   "metadata": {
    "collapsed": true
   },
   "outputs": [
    {
     "data": {
      "text/plain": [
       "ListFolderResult(entries=[FileMetadata(name='20170101.taskpaper', id='id:DKtWu_T6HIQAAAAAAAIykQ', client_modified=datetime.datetime(2017, 2, 2, 19, 25, 4), server_modified=datetime.datetime(2017, 2, 6, 19, 21, 54), rev='353e8a877', size=1994, path_lower='/20170101.taskpaper', path_display='/20170101.taskpaper', parent_shared_folder_id=None, media_info=None, sharing_info=None, property_groups=None, has_explicit_shared_members=None), FileMetadata(name='20170108.taskpaper', id='id:DKtWu_T6HIQAAAAAAAI7kg', client_modified=datetime.datetime(2017, 2, 2, 19, 24, 58), server_modified=datetime.datetime(2017, 2, 6, 19, 21, 54), rev='453e8a877', size=2224, path_lower='/20170108.taskpaper', path_display='/20170108.taskpaper', parent_shared_folder_id=None, media_info=None, sharing_info=None, property_groups=None, has_explicit_shared_members=None), FileMetadata(name='20170115.taskpaper', id='id:DKtWu_T6HIQAAAAAAAJGrA', client_modified=datetime.datetime(2017, 2, 2, 19, 24, 52), server_modified=datetime.datetime(2017, 2, 6, 19, 21, 54), rev='553e8a877', size=2567, path_lower='/20170115.taskpaper', path_display='/20170115.taskpaper', parent_shared_folder_id=None, media_info=None, sharing_info=None, property_groups=None, has_explicit_shared_members=None), FileMetadata(name='20170122.taskpaper', id='id:DKtWu_T6HIQAAAAAAAJb5A', client_modified=datetime.datetime(2017, 2, 2, 19, 24, 46), server_modified=datetime.datetime(2017, 2, 6, 19, 21, 54), rev='653e8a877', size=1952, path_lower='/20170122.taskpaper', path_display='/20170122.taskpaper', parent_shared_folder_id=None, media_info=None, sharing_info=None, property_groups=None, has_explicit_shared_members=None), FileMetadata(name='20170129.taskpaper', id='id:DKtWu_T6HIQAAAAAAAJfxQ', client_modified=datetime.datetime(2017, 2, 6, 17, 4, 54), server_modified=datetime.datetime(2017, 2, 6, 19, 21, 54), rev='753e8a877', size=2231, path_lower='/20170129.taskpaper', path_display='/20170129.taskpaper', parent_shared_folder_id=None, media_info=None, sharing_info=None, property_groups=None, has_explicit_shared_members=None), FileMetadata(name='20170205.taskpaper', id='id:DKtWu_T6HIQAAAAAAAJg5A', client_modified=datetime.datetime(2017, 2, 6, 19, 13, 54), server_modified=datetime.datetime(2017, 2, 6, 19, 21, 54), rev='853e8a877', size=745, path_lower='/20170205.taskpaper', path_display='/20170205.taskpaper', parent_shared_folder_id=None, media_info=None, sharing_info=None, property_groups=None, has_explicit_shared_members=None)], cursor='AAFLat_hxM7dxtqJCflG4ewZoxxnxwTeNLN6dSQxpFzdA4CEt4uqn2LjEDY33M6jJ9eXlSu2_2_fL7avwDWNF8HghwuFoQbnA6WxdAHXqVbrHdes0LcpqtOPCA07mm3M6c8', has_more=False)"
      ]
     },
     "execution_count": 37,
     "metadata": {},
     "output_type": "execute_result"
    }
   ],
   "source": [
    "auth_token = \"bdOpEz-TVPwAAAAAAAAzs3AZSPeNDDDyZiaioA4gMK2LMoazNL5x5XrJgjawNJw4\"\n",
    "dbx = dropbox.Dropbox(auth_token)\n",
    "dbx.users_get_current_account()\n",
    "dbx.files_list_folder(\"\")\n",
    "#dbx.files_upload('!!!', \"/Hello2\", )"
   ]
  },
  {
   "cell_type": "code",
   "execution_count": 43,
   "metadata": {
    "collapsed": true
   },
   "outputs": [
    {
     "name": "stdout",
     "output_type": "stream",
     "text": [
      "20170101.taskpaper\n",
      "20170108.taskpaper\n",
      "20170115.taskpaper\n",
      "20170122.taskpaper\n",
      "20170129.taskpaper\n",
      "20170205.taskpaper\n"
     ]
    },
    {
     "data": {
      "text/plain": [
       "b'Works\\\\MSFT:\\nSAM Wrap-up\\n- SAM quality experiment\\n\\nWork\\\\CSI:\\n- Contact E1 guests\\n\\t- CSI roadmap\\n- Revamp HP / FB page\\n- Write announcement\\n\\nWork\\\\MDT:\\n\\nWeb frontend\\n- Dropbox API https://github.com/dropbox/dropbox-sdk-python\\n\\nETC:\\n- \\xec\\xb0\\xbd\\xeb\\xb0\\x9c reimbursement @done(2017-02-06)\\n- Send tax form to Mira\\n- Transfer Comcast acct\\n- V-day gift?\\n\\nMoving:\\n- Double-check APT (possible delay)\\n\\n\\n2017-02-05:\\nCostco return fiasco\\n\\tKeep receipts in place\\n\\tNOT HAPPENING AGAIN!!!\\n\\nTHE INFORMATION is great\\n\\tA lot of info on how Snap operates\\n\\tBusiness environment surrounding it\\n\\n2017-02-06:\\nMDT:Web first steps\\n\\thttps://blogs.dropbox.com/developers/2013/08/dropbox-core-api-and-oauth-2-the-hard-way/\\n\\thttps://www.dropbox.com/developers/apps/info/vmadgs83odog3pl\\n\\t\\n'"
      ]
     },
     "execution_count": 43,
     "metadata": {},
     "output_type": "execute_result"
    }
   ],
   "source": [
    "root = ''\n",
    "for entry in dbx.files_list_folder(root).entries:\n",
    "    print(entry.name)\n",
    "    md, res = dbx.files_download('/'+entry.name)"
   ]
  },
  {
   "cell_type": "code",
   "execution_count": 55,
   "metadata": {
    "collapsed": false
   },
   "outputs": [
    {
     "data": {
      "text/plain": [
       "'20170205.taskpaper'"
      ]
     },
     "execution_count": 55,
     "metadata": {},
     "output_type": "execute_result"
    }
   ],
   "source": [
    "res.content.decode().split(\"\\n\")\n",
    "md.name"
   ]
  },
  {
   "cell_type": "code",
   "execution_count": 4,
   "metadata": {
    "collapsed": false
   },
   "outputs": [],
   "source": [
    "reload(mp)\n",
    "auth_token = \"bdOpEz-TVPwAAAAAAAAzs3AZSPeNDDDyZiaioA4gMK2LMoazNL5x5XrJgjawNJw4\"\n",
    "mp.import_from_dropbox(auth_token, 'tmp')\n",
    "dt = mp.parse_md_files(\"./tmp/\"+\"*.taskpaper\")\n"
   ]
  },
  {
   "cell_type": "markdown",
   "metadata": {},
   "source": [
    "# Test"
   ]
  },
  {
   "cell_type": "code",
   "execution_count": 6,
   "metadata": {
    "collapsed": false
   },
   "outputs": [
    {
     "data": {
      "text/plain": [
       "['a', 'b', 'c']"
      ]
     },
     "execution_count": 6,
     "metadata": {},
     "output_type": "execute_result"
    }
   ],
   "source": [
    "\"a b c\".split(\" \")"
   ]
  },
  {
   "cell_type": "code",
   "execution_count": 7,
   "metadata": {
    "collapsed": false
   },
   "outputs": [
    {
     "name": "stdout",
     "output_type": "stream",
     "text": [
      "\\@(\\w+)\\(([-\\w]+)\\)?\n",
      "##  abc @tag def\n",
      "['@tag']\n",
      "[]\n",
      "##  a @tag(value!) c @tag2\n",
      "['@tag(value!)', '@tag2']\n",
      "[('tag', 'value')]\n",
      "##  @done(2015-01-01)\n",
      "['@done(2015-01-01)']\n",
      "[('done', '2015-01-01')]\n",
      "##  @p(1)\n",
      "['@p(1)']\n",
      "[('p', '1')]\n"
     ]
    }
   ],
   "source": [
    "reload(ms)\n",
    "print(ms.P_TAG2)\n",
    "text = [\"abc @tag def\", \"a @tag(value!) c @tag2\", \"@done(2015-01-01)\", \"@p(1)\"]\n",
    "for t in text:\n",
    "    print(\"## \", t)\n",
    "    print(re.findall(ms.P_TAG, t))\n",
    "    print(re.findall(ms.P_TAG2, t))\n"
   ]
  },
  {
   "cell_type": "code",
   "execution_count": 7,
   "metadata": {
    "collapsed": false
   },
   "outputs": [
    {
     "data": {
      "text/plain": [
       "{'auth_token': 'bdOpEz-TVPwAAAAAAAAzs3AZSPeNDDDyZiaioA4gMK2LMoazNL5x5XrJgjawNJw4'}"
      ]
     },
     "execution_count": 7,
     "metadata": {},
     "output_type": "execute_result"
    }
   ],
   "source": [
    "import yaml\n",
    "mc = open(\"mdt_config.yaml\",\"r\").read()\n",
    "yaml.load(mc)"
   ]
  },
  {
   "cell_type": "markdown",
   "metadata": {},
   "source": [
    "# Deprecated"
   ]
  },
  {
   "cell_type": "code",
   "execution_count": null,
   "metadata": {
    "collapsed": true
   },
   "outputs": [],
   "source": []
  }
 ],
 "metadata": {
  "anaconda-cloud": {},
  "kernelspec": {
   "display_name": "Python [default]",
   "language": "python",
   "name": "python3"
  },
  "language_info": {
   "codemirror_mode": {
    "name": "ipython",
    "version": 3
   },
   "file_extension": ".py",
   "mimetype": "text/x-python",
   "name": "python",
   "nbconvert_exporter": "python",
   "pygments_lexer": "ipython3",
   "version": "3.5.2"
  }
 },
 "nbformat": 4,
 "nbformat_minor": 0
}
